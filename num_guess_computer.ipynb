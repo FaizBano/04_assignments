{
  "nbformat": 4,
  "nbformat_minor": 0,
  "metadata": {
    "colab": {
      "provenance": [],
      "authorship_tag": "ABX9TyPophfUdo2IloujJrSnTAiU",
      "include_colab_link": true
    },
    "kernelspec": {
      "name": "python3",
      "display_name": "Python 3"
    },
    "language_info": {
      "name": "python"
    }
  },
  "cells": [
    {
      "cell_type": "markdown",
      "metadata": {
        "id": "view-in-github",
        "colab_type": "text"
      },
      "source": [
        "<a href=\"https://colab.research.google.com/github/FaizBano/04_assignments/blob/main/num_guess_computer.ipynb\" target=\"_parent\"><img src=\"https://colab.research.google.com/assets/colab-badge.svg\" alt=\"Open In Colab\"/></a>"
      ]
    },
    {
      "cell_type": "markdown",
      "source": [
        "Guess the Number Game Python Project (computer)bold text"
      ],
      "metadata": {
        "id": "xygFWInTQ__S"
      }
    },
    {
      "cell_type": "code",
      "execution_count": 16,
      "metadata": {
        "colab": {
          "base_uri": "https://localhost:8080/"
        },
        "id": "ZOhCiX42Q-IZ",
        "outputId": "13bd6162-d08b-40ea-b168-114894031a07"
      },
      "outputs": [
        {
          "output_type": "stream",
          "name": "stdout",
          "text": [
            "\n",
            "🎮 GUESS THE NUMBER GAME (Computer will guess your number!)\n",
            "Think of a number from 1 to 10 and press Enter when you're ready...6\n",
            "🤖 Computer guesses: 9\n",
            "Is the guess Greater (g), Less (l), or Correct (c)? g\n",
            "🤖 Computer guesses: 7\n",
            "Is the guess Greater (g), Less (l), or Correct (c)? less\n",
            "❗ Invalid input. Please enter 'g' (greater), 'l' (less), or 'c' (correct).\n",
            "🤖 Computer guesses: 4\n",
            "Is the guess Greater (g), Less (l), or Correct (c)? l\n",
            "🤖 Computer guesses: 8\n",
            "Is the guess Greater (g), Less (l), or Correct (c)? g\n",
            "🤖 Computer guesses: 5\n",
            "Is the guess Greater (g), Less (l), or Correct (c)? l\n",
            "🤖 Computer guesses: 7\n",
            "Is the guess Greater (g), Less (l), or Correct (c)? g\n",
            "🤖 Computer guesses: 6\n",
            "Is the guess Greater (g), Less (l), or Correct (c)? c\n",
            "🎉 Yay! Computer guessed your number: 6\n",
            "Do you want to play again? (yes/no): no\n",
            "\n",
            "🙏 Thanks for playing! Have a great day! 👋\n"
          ]
        }
      ],
      "source": [
        "import random\n",
        "\n",
        "def computer_guess_game():\n",
        "    print(\"\\n🎮 GUESS THE NUMBER GAME (Computer will guess your number!)\")\n",
        "    input(\"Think of a number from 1 to 10 and press Enter when you're ready...\")\n",
        "\n",
        "    low = 1\n",
        "    high = 10\n",
        "\n",
        "    while True:\n",
        "        if low > high:\n",
        "            print(\"❌ Invalid feedback or cheating detected! 🙃\")\n",
        "            print(\"👉 Please be honest next time.\\n\")\n",
        "            break\n",
        "\n",
        "        computer_num = random.randint(low, high)\n",
        "        print(f\"🤖 Computer guesses: {computer_num}\")\n",
        "\n",
        "        feedback = input(\"Is the guess Greater (g), Less (l), or Correct (c)? \").strip().lower()\n",
        "\n",
        "        if feedback == \"c\":\n",
        "            print(f\"🎉 Yay! Computer guessed your number: {computer_num}\")\n",
        "            break\n",
        "        elif feedback == \"l\":\n",
        "            if computer_num == 10:\n",
        "                print(\"❗ Invalid input! Number can't be greater than 10.\")\n",
        "            else:\n",
        "                low = computer_num + 1\n",
        "        elif feedback == \"g\":\n",
        "            if computer_num == 1:\n",
        "                print(\"❗ Invalid input! Number can't be less than 1.\")\n",
        "            else:\n",
        "                high = computer_num - 1\n",
        "        else:\n",
        "            print(\"❗ Invalid input. Please enter 'g' (greater), 'l' (less), or 'c' (correct).\")\n",
        "\n",
        "# Main loop to replay the game\n",
        "while True:\n",
        "    computer_guess_game()\n",
        "    play_again = input(\"Do you want to play again? (yes/no): \").strip().lower()\n",
        "    if play_again != \"yes\":\n",
        "        print(\"\\n🙏 Thanks for playing! Have a great day! 👋\")\n",
        "        break\n"
      ]
    }
  ]
}