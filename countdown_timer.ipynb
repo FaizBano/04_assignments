{
  "nbformat": 4,
  "nbformat_minor": 0,
  "metadata": {
    "colab": {
      "provenance": [],
      "authorship_tag": "ABX9TyN4F4TvoQyns02xC30TWgA5",
      "include_colab_link": true
    },
    "kernelspec": {
      "name": "python3",
      "display_name": "Python 3"
    },
    "language_info": {
      "name": "python"
    }
  },
  "cells": [
    {
      "cell_type": "markdown",
      "metadata": {
        "id": "view-in-github",
        "colab_type": "text"
      },
      "source": [
        "<a href=\"https://colab.research.google.com/github/FaizBano/04_assignments/blob/main/countdown_timer.ipynb\" target=\"_parent\"><img src=\"https://colab.research.google.com/assets/colab-badge.svg\" alt=\"Open In Colab\"/></a>"
      ]
    },
    {
      "cell_type": "markdown",
      "source": [
        "# Countdown Timer Python **Project**"
      ],
      "metadata": {
        "id": "dZDGsGHFiuCZ"
      }
    },
    {
      "cell_type": "code",
      "execution_count": 2,
      "metadata": {
        "colab": {
          "base_uri": "https://localhost:8080/"
        },
        "id": "utIwO4fYigKF",
        "outputId": "4f4bf9a2-f4c0-4850-84f0-d0422b8f1afc"
      },
      "outputs": [
        {
          "output_type": "stream",
          "name": "stdout",
          "text": [
            "\u001b[96m🕒 Welcome to the Countdown Timer Project by Faiz Bano! 🧠\u001b[0m\n",
            "\u001b[93m⏰ Enter the countdown time in seconds: \u001b[0m10\n",
            "\u001b[92m🚀 Countdown starting now...\u001b[0m\n",
            "\n",
            "\u001b[91m⏳ 10 seconds remaining...\u001b[0m\n",
            "\u001b[91m⏳ 9 seconds remaining...\u001b[0m\n",
            "\u001b[91m⏳ 8 seconds remaining...\u001b[0m\n",
            "\u001b[91m⏳ 7 seconds remaining...\u001b[0m\n",
            "\u001b[91m⏳ 6 seconds remaining...\u001b[0m\n",
            "\u001b[91m⏳ 5 seconds remaining...\u001b[0m\n",
            "\u001b[91m⏳ 4 seconds remaining...\u001b[0m\n",
            "\u001b[91m⏳ 3 seconds remaining...\u001b[0m\n",
            "\u001b[91m⏳ 2 seconds remaining...\u001b[0m\n",
            "\u001b[91m⏳ 1 seconds remaining...\u001b[0m\n",
            "\u001b[92m🎉🎉 Time's up! Countdown completed! 🎯\u001b[0m\n",
            "\u001b[96m\n",
            "🔁 Do you want to start another countdown? (yes/no): \u001b[0mno\n",
            "\n",
            "\u001b[93m🙏 Thank you for using Faiz's Countdown Timer! Have a great day! 🌞\u001b[0m\n"
          ]
        }
      ],
      "source": [
        "import time\n",
        "\n",
        "# ANSI escape codes for colors\n",
        "RED = \"\\033[91m\"\n",
        "GREEN = \"\\033[92m\"\n",
        "YELLOW = \"\\033[93m\"\n",
        "CYAN = \"\\033[96m\"\n",
        "RESET = \"\\033[0m\"\n",
        "\n",
        "print(f\"{CYAN}🕒 Welcome to the Countdown Timer Project by Faiz Bano! 🧠{RESET}\")\n",
        "\n",
        "while True:\n",
        "    try:\n",
        "        countdown_time = int(input(f\"{YELLOW}⏰ Enter the countdown time in seconds: {RESET}\"))\n",
        "\n",
        "        print(f\"{GREEN}🚀 Countdown starting now...{RESET}\\n\")\n",
        "        while countdown_time > 0:\n",
        "            print(f\"{RED}⏳ {countdown_time} seconds remaining...{RESET}\")\n",
        "            time.sleep(1)\n",
        "            countdown_time -= 1\n",
        "\n",
        "        print(f\"{GREEN}🎉🎉 Time's up! Countdown completed! 🎯{RESET}\")\n",
        "\n",
        "    except ValueError:\n",
        "        print(f\"{RED}⚠️ Please enter a valid number!{RESET}\")\n",
        "        continue  # Ask again\n",
        "\n",
        "    # Ask user if they want to run the timer again\n",
        "    play_again = input(f\"{CYAN}\\n🔁 Do you want to start another countdown? (yes/no): {RESET}\").strip().lower()\n",
        "    if play_again != \"yes\":\n",
        "        print(f\"\\n{YELLOW}🙏 Thank you for using Faiz's Countdown Timer! Have a great day! 🌞{RESET}\")\n",
        "        break\n"
      ]
    }
  ]
}