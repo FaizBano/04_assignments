{
  "nbformat": 4,
  "nbformat_minor": 0,
  "metadata": {
    "colab": {
      "provenance": [],
      "authorship_tag": "ABX9TyPd5qq2sJUcW8G2prsOUs3b",
      "include_colab_link": true
    },
    "kernelspec": {
      "name": "python3",
      "display_name": "Python 3"
    },
    "language_info": {
      "name": "python"
    }
  },
  "cells": [
    {
      "cell_type": "markdown",
      "metadata": {
        "id": "view-in-github",
        "colab_type": "text"
      },
      "source": [
        "<a href=\"https://colab.research.google.com/github/FaizBano/04_assignments/blob/main/01_basics.ipynb\" target=\"_parent\"><img src=\"https://colab.research.google.com/assets/colab-badge.svg\" alt=\"Open In Colab\"/></a>"
      ]
    },
    {
      "cell_type": "markdown",
      "source": [
        "# **00_joke_bot**"
      ],
      "metadata": {
        "id": "VgR5ovNDSzxP"
      }
    },
    {
      "cell_type": "code",
      "execution_count": 12,
      "metadata": {
        "colab": {
          "base_uri": "https://localhost:8080/"
        },
        "id": "0mI9ceeVSdKx",
        "outputId": "e607dfb8-e63c-4e52-ad11-f4d072704a1a"
      },
      "outputs": [
        {
          "output_type": "stream",
          "name": "stdout",
          "text": [
            "What do you want? joke\n",
            "😂 Here's a joke for you!\n",
            "\n",
            "Sophia is heading out to the grocery store. 🛒\n",
            "A programmer tells her: \"Get a liter of milk, and if they have eggs, get 12.\"\n",
            "\n",
            "🥚🥛 Sophia returns with 13 liters of milk.\n",
            "The programmer asks why.\n",
            "Sophia replies: \"Because they had eggs!\" 🤣\n"
          ]
        }
      ],
      "source": [
        "PROMPT: str = \"What do you want? \"\n",
        "JOKE: str = (\n",
        "    \"😂 Here's a joke for you!\\n\\n\"\n",
        "    \"Sophia is heading out to the grocery store. 🛒\\n\"\n",
        "    \"A programmer tells her: \\\"Get a liter of milk, and if they have eggs, get 12.\\\"\\n\\n\"\n",
        "    \"🥚🥛 Sophia returns with 13 liters of milk.\\n\"\n",
        "    \"The programmer asks why.\\n\"\n",
        "    \"Sophia replies: \\\"Because they had eggs!\\\" 🤣\"\n",
        ")\n",
        "SORRY: str = \"🙁 Sorry, I only tell jokes. Try asking for a joke!\"\n",
        "\n",
        "def main():\n",
        "    user_input = input(PROMPT)\n",
        "    user_input = user_input.strip().lower()\n",
        "\n",
        "    if \"joke\" in user_input:\n",
        "        print(JOKE)\n",
        "    else:\n",
        "        print(SORRY)\n",
        "\n",
        "if __name__ == \"__main__\":\n",
        "    main()\n"
      ]
    },
    {
      "cell_type": "markdown",
      "source": [
        "## **01_double_it**"
      ],
      "metadata": {
        "id": "OMvXJv0DZUgB"
      }
    },
    {
      "cell_type": "code",
      "source": [
        "# Ask the user to enter a number\n",
        "curr_value = int(input(\"Enter a number: \"))\n",
        "\n",
        "# Double and print the number until it reaches 100 or more\n",
        "while curr_value < 100:\n",
        "    curr_value = curr_value * 2\n",
        "    print(curr_value, end=' ')\n"
      ],
      "metadata": {
        "colab": {
          "base_uri": "https://localhost:8080/"
        },
        "id": "8UGYaw0KTCuX",
        "outputId": "33f3663a-1fc5-4961-a819-a68dd0a8c9d9"
      },
      "execution_count": 16,
      "outputs": [
        {
          "output_type": "stream",
          "name": "stdout",
          "text": [
            "Enter a number: 7\n",
            "14 28 56 112 "
          ]
        }
      ]
    },
    {
      "cell_type": "markdown",
      "source": [
        "## **02_liftoff**"
      ],
      "metadata": {
        "id": "cWij-jDKb1Yr"
      }
    },
    {
      "cell_type": "code",
      "source": [
        "# Countdown from 10 to 1 using a for loop\n",
        "for countdown in range(10):\n",
        "    print(10 - countdown, end=' ')\n",
        "\n",
        "# After the countdown, print \"Liftoff!\"\n",
        "print(\"Liftoff!\")\n"
      ],
      "metadata": {
        "colab": {
          "base_uri": "https://localhost:8080/"
        },
        "id": "4Z0DW-tObuSO",
        "outputId": "a9a5a822-11eb-4e26-9024-6007fc84b66a"
      },
      "execution_count": 18,
      "outputs": [
        {
          "output_type": "stream",
          "name": "stdout",
          "text": [
            "10 9 8 7 6 5 4 3 2 1 Liftoff!\n"
          ]
        }
      ]
    },
    {
      "cell_type": "markdown",
      "source": [
        "**03_guess_my_number**"
      ],
      "metadata": {
        "id": "4PYZDylLdEBV"
      }
    },
    {
      "cell_type": "code",
      "source": [
        "import random\n",
        "\n",
        "def main():\n",
        "    # Generate the secret number at random!\n",
        "    secret_number: int = random.randint(1, 99)\n",
        "\n",
        "    print(\"I am thinking of a number between 1 and 99...\")\n",
        "\n",
        "    # Get user's guess\n",
        "    guess = int(input(\"Enter a guess: \"))\n",
        "    # True if guess is not equal to secret number\n",
        "    while guess != secret_number:\n",
        "        if guess < secret_number:  # If-statement is True if guess is less than secret number\n",
        "            print(\"Your guess is too low\")\n",
        "        else:\n",
        "            print(\"Your guess is too high\")\n",
        "\n",
        "        print() # Print an empty line to tidy up the console for new guesses\n",
        "        guess: int = int(input(\"Enter a new guess: \"))  # Get a new guess from the user\n",
        "\n",
        "    print(\"Congrats! The number was: \" + str(secret_number))\n",
        "\n",
        "if __name__ == '__main__':\n",
        "    main()\n"
      ],
      "metadata": {
        "colab": {
          "base_uri": "https://localhost:8080/"
        },
        "id": "_ZqzGYSmdGkP",
        "outputId": "8262c92a-4b05-438d-ed23-260a644f91ea"
      },
      "execution_count": 19,
      "outputs": [
        {
          "output_type": "stream",
          "name": "stdout",
          "text": [
            "I am thinking of a number between 1 and 99...\n",
            "Enter a guess: 4\n",
            "Your guess is too high\n",
            "\n",
            "Enter a new guess: 1\n",
            "Your guess is too low\n",
            "\n",
            "Enter a new guess: 2\n",
            "Congrats! The number was: 2\n"
          ]
        }
      ]
    },
    {
      "cell_type": "markdown",
      "source": [
        "## **04_random_numbers**"
      ],
      "metadata": {
        "id": "ncTi2nxBet-h"
      }
    },
    {
      "cell_type": "code",
      "source": [
        "import random\n",
        "\n",
        "print(\"🎲 Here are your 10 random numbers between 1 and 100:\\n\")\n",
        "\n",
        "for i in range(10):\n",
        "    number = random.randint(1, 100)\n",
        "    print(number, end=' ')\n",
        "\n",
        "print(\"\\n\\n🎉 Done! Run again for a new set!\")\n"
      ],
      "metadata": {
        "colab": {
          "base_uri": "https://localhost:8080/"
        },
        "id": "HPlcUCdxeve_",
        "outputId": "6ee7a658-affb-417e-fe20-5f53faedd245"
      },
      "execution_count": 20,
      "outputs": [
        {
          "output_type": "stream",
          "name": "stdout",
          "text": [
            "🎲 Here are your 10 random numbers between 1 and 100:\n",
            "\n",
            "8 5 68 48 10 30 10 71 36 6 \n",
            "\n",
            "🎉 Done! Run again for a new set!\n"
          ]
        }
      ]
    }
  ]
}