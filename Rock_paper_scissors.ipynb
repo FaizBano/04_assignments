{
  "nbformat": 4,
  "nbformat_minor": 0,
  "metadata": {
    "colab": {
      "provenance": [],
      "authorship_tag": "ABX9TyPIBvH6uttFb7SfeN7XySBp",
      "include_colab_link": true
    },
    "kernelspec": {
      "name": "python3",
      "display_name": "Python 3"
    },
    "language_info": {
      "name": "python"
    }
  },
  "cells": [
    {
      "cell_type": "markdown",
      "metadata": {
        "id": "view-in-github",
        "colab_type": "text"
      },
      "source": [
        "<a href=\"https://colab.research.google.com/github/FaizBano/04_assignments/blob/main/Rock_paper_scissors.ipynb\" target=\"_parent\"><img src=\"https://colab.research.google.com/assets/colab-badge.svg\" alt=\"Open In Colab\"/></a>"
      ]
    },
    {
      "cell_type": "code",
      "execution_count": 4,
      "metadata": {
        "id": "iCRKbp_XfB0c",
        "colab": {
          "base_uri": "https://localhost:8080/"
        },
        "outputId": "ce61bc9f-1eb1-449f-f82c-92d8a00f18e3"
      },
      "outputs": [
        {
          "output_type": "stream",
          "name": "stdout",
          "text": [
            "Your file is saved in the '04_assignments' folder ✅\n"
          ]
        }
      ],
      "source": [
        "code = \"\"\"\n",
        "# Rock, Paper and Scissors Game\n",
        "import random\n",
        "\n",
        "choices: list[str] = [\"rock\", \"paper\", \"scissors\"]\n",
        "\n",
        "while True:\n",
        "    user_choice = input(\"Enter your choice (rock, paper, or scissors): \").lower()\n",
        "    if user_choice not in choices:\n",
        "        print(\"Invalid choice, please enter a valid choice. ❌\")\n",
        "        continue\n",
        "\n",
        "    computer_choice = random.choice(choices)\n",
        "    print(f\"Computer choice: {computer_choice}\")\n",
        "\n",
        "    if user_choice == computer_choice:\n",
        "        print(\"It's a tie!\")\n",
        "    elif (\n",
        "        (user_choice == \"rock\" and computer_choice == \"scissors\") or\n",
        "        (user_choice == \"paper\" and computer_choice == \"rock\") or\n",
        "        (user_choice == \"scissors\" and computer_choice == \"paper\")\n",
        "    ):\n",
        "        print(\"You win! 👏\")\n",
        "    else:\n",
        "        print(\"Computer wins! 😍\")\n",
        "\n",
        "    play_again = input(\"Do you want to play again? (yes/no): \").lower()\n",
        "    if play_again != \"yes\":\n",
        "        print(\"Thanks for playing 🙏\")\n",
        "        break\n",
        "\"\"\"\n",
        "\n",
        "with open(\"04_assignments/rock_paper_scissors.py\", \"w\") as file:\n",
        "    file.write(code)\n",
        "\n",
        "print(\"Your file is saved in the '04_assignments' folder ✅\")\n"
      ]
    },
    {
      "cell_type": "code",
      "source": [
        "from google.colab import drive\n",
        "drive.mount('/content/drive')"
      ],
      "metadata": {
        "id": "AdA7dE_voqSs"
      },
      "execution_count": null,
      "outputs": []
    },
    {
      "cell_type": "code",
      "source": [
        "import os\n",
        "\n",
        "folder_name = \"04_assignments\"\n",
        "if not os.path.exists(folder_name):\n",
        "    os.makedirs(folder_name)\n",
        "    print(f\"Folder '{folder_name}' created ✅\")\n",
        "else:\n",
        "    print(f\"Folder '{folder_name}' already exists 📁\")\n"
      ],
      "metadata": {
        "colab": {
          "base_uri": "https://localhost:8080/"
        },
        "id": "39VfZKU6k9K7",
        "outputId": "bb89d98b-85c9-4a49-bb9a-bb2ea6f89c1d"
      },
      "execution_count": 1,
      "outputs": [
        {
          "output_type": "stream",
          "name": "stdout",
          "text": [
            "Folder '04_assignments' created ✅\n"
          ]
        }
      ]
    }
  ]
}