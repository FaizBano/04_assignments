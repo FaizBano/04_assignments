{
  "nbformat": 4,
  "nbformat_minor": 0,
  "metadata": {
    "colab": {
      "provenance": [],
      "authorship_tag": "ABX9TyNJOC32g6+IQ6iCslMZjsQo",
      "include_colab_link": true
    },
    "kernelspec": {
      "name": "python3",
      "display_name": "Python 3"
    },
    "language_info": {
      "name": "python"
    }
  },
  "cells": [
    {
      "cell_type": "markdown",
      "metadata": {
        "id": "view-in-github",
        "colab_type": "text"
      },
      "source": [
        "<a href=\"https://colab.research.google.com/github/FaizBano/04_assignments/blob/main/password_Generator.ipynb\" target=\"_parent\"><img src=\"https://colab.research.google.com/assets/colab-badge.svg\" alt=\"Open In Colab\"/></a>"
      ]
    },
    {
      "cell_type": "markdown",
      "source": [
        "Password Generator Project"
      ],
      "metadata": {
        "id": "gE1eJnc1sL_g"
      }
    },
    {
      "cell_type": "code",
      "execution_count": 4,
      "metadata": {
        "colab": {
          "base_uri": "https://localhost:8080/"
        },
        "id": "7tu3amGLmbZa",
        "outputId": "c4b2980b-7a81-4cb6-a050-9a099567450e"
      },
      "outputs": [
        {
          "output_type": "stream",
          "name": "stdout",
          "text": [
            "🔐 Welcome to Faiz Bano's Password Generator 🔑\n",
            "📝 How many passwords do you want to generate? 1\n",
            "🔢 Enter the length for each password: 10\n",
            "\n",
            "🔒 Your generated passwords:\n",
            " 1. >LB\\7B:rv> (Normal)\n",
            "💾 Do you want to save these passwords to a file? (yes/no): yes\n",
            "📁 Passwords saved to saved_passwords.txt\n",
            "\n",
            "🔁 Do you want to generate more passwords? (yes/no): no\n",
            "🙏 Thank you for using Faiz's Password Generator! Stay safe online! 🛡️\n"
          ]
        }
      ],
      "source": [
        "import random\n",
        "import string\n",
        "import pyperclip\n",
        "\n",
        "# Function to check password strength\n",
        "def check_strength(password):\n",
        "    length = len(password)\n",
        "    has_upper = any(c.isupper() for c in password)\n",
        "    has_lower = any(c.islower() for c in password)\n",
        "    has_digit = any(c.isdigit() for c in password)\n",
        "    has_symbol = any(c in string.punctuation for c in password)\n",
        "\n",
        "    score = sum([has_upper, has_lower, has_digit, has_symbol])\n",
        "    if length >= 12 and score == 4:\n",
        "        return \"Strong\"\n",
        "    elif length >= 8 and score >= 3:\n",
        "        return \"Normal\"\n",
        "    else:\n",
        "        return \"Weak\"\n",
        "\n",
        "# Main program loop\n",
        "print(\"🔐 Welcome to Faiz Bano's Password Generator 🔑\")\n",
        "\n",
        "while True:\n",
        "    try:\n",
        "        count = int(input(\"📝 How many passwords do you want to generate? \"))\n",
        "        length = int(input(\"🔢 Enter the length for each password: \"))\n",
        "    except ValueError:\n",
        "        print(\"⚠️ Please enter valid numbers!\")\n",
        "        continue\n",
        "\n",
        "    characters = string.ascii_letters + string.digits + string.punctuation\n",
        "    passwords = []\n",
        "\n",
        "    print(\"\\n🔒 Your generated passwords:\")\n",
        "    for i in range(count):\n",
        "        password = ''.join(random.choice(characters) for _ in range(length))\n",
        "        strength = check_strength(password)\n",
        "        print(f\" {i+1}. {password} ({strength})\")\n",
        "        passwords.append(f\"{password} ({strength})\")\n",
        "\n",
        "    # Save passwords to file\n",
        "    save_choice = input(\"💾 Do you want to save these passwords to a file? (yes/no): \").strip().lower()\n",
        "    if save_choice == \"yes\":\n",
        "        with open(\"saved_passwords.txt\", \"a\") as f:\n",
        "            for p in passwords:\n",
        "                f.write(p + \"\\n\")\n",
        "        print(\"📁 Passwords saved to saved_passwords.txt\")\n",
        "\n",
        "    # Play again?\n",
        "    again = input(\"\\n🔁 Do you want to generate more passwords? (yes/no): \").strip().lower()\n",
        "    if again != \"yes\":\n",
        "        print(\"🙏 Thank you for using Faiz's Password Generator! Stay safe online! 🛡️\")\n",
        "        break\n"
      ]
    }
  ]
}