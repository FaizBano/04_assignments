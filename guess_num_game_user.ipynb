{
  "nbformat": 4,
  "nbformat_minor": 0,
  "metadata": {
    "colab": {
      "provenance": [],
      "authorship_tag": "ABX9TyPn06KmqwGvlSxSOxkXyXhu",
      "include_colab_link": true
    },
    "kernelspec": {
      "name": "python3",
      "display_name": "Python 3"
    },
    "language_info": {
      "name": "python"
    }
  },
  "cells": [
    {
      "cell_type": "markdown",
      "metadata": {
        "id": "view-in-github",
        "colab_type": "text"
      },
      "source": [
        "<a href=\"https://colab.research.google.com/github/FaizBano/04_assignments/blob/main/guess_num_game_user.ipynb\" target=\"_parent\"><img src=\"https://colab.research.google.com/assets/colab-badge.svg\" alt=\"Open In Colab\"/></a>"
      ]
    },
    {
      "cell_type": "markdown",
      "source": [
        "# **Guess the Number Game Python Project (user)**"
      ],
      "metadata": {
        "id": "Xjl9h7bFVNe7"
      }
    },
    {
      "cell_type": "code",
      "execution_count": 5,
      "metadata": {
        "colab": {
          "base_uri": "https://localhost:8080/"
        },
        "id": "9aYimegcTNEo",
        "outputId": "187c85d5-1259-4208-f42e-0d94fe9230e9"
      },
      "outputs": [
        {
          "output_type": "stream",
          "name": "stdout",
          "text": [
            "WELCOME TO THE NUMBER GUESSING GAME BY USER\n",
            "\n",
            "Computer thought a number from 1 to 10 😔! Now you guess the number 😊\n",
            "Guess a number from 1 to 10 (1,10)!.....   5\n",
            "Waw 👏 you guessed the correct number ✅...... \n",
            "Do you want to play again? (yes/no): yes\n",
            "\n",
            "Computer thought a number from 1 to 10 😔! Now you guess the number 😊\n",
            "Guess a number from 1 to 10 (1,10)!.....   8\n",
            "Oh No!!! Think a smaller number 🤪📄📜.....\n",
            "Guess a number from 1 to 10 (1,10)!.....   5\n",
            "ohhhh 🤔 think a bigger number 📜 \n",
            "Guess a number from 1 to 10 (1,10)!.....   6\n",
            "ohhhh 🤔 think a bigger number 📜 \n",
            "Guess a number from 1 to 10 (1,10)!.....   7\n",
            "Waw 👏 you guessed the correct number ✅...... \n",
            "Do you want to play again? (yes/no): no\n",
            "Thanks for playing! Goodbye 👋😊\n"
          ]
        }
      ],
      "source": [
        "import random\n",
        "\n",
        "print(\"WELCOME TO THE NUMBER GUESSING GAME BY USER\")\n",
        "\n",
        "while True:\n",
        "    secret_number = random.randint(1, 10)\n",
        "    print(\"\\nComputer thought a number from 1 to 10 😔! Now you guess the number 😊\")\n",
        "\n",
        "    try:\n",
        "        while True:\n",
        "            user_input = int(input(\"Guess a number from 1 to 10 (1,10)!.....   \"))\n",
        "            if user_input == secret_number:\n",
        "                print(\"Waw 👏 you guessed the correct number ✅...... \")\n",
        "                break\n",
        "            elif user_input < secret_number:\n",
        "                print(\"ohhhh 🤔 think a bigger number 📜 \")\n",
        "            elif user_input > secret_number:\n",
        "                print(\"Oh No!!! Think a smaller number 🤪📄📜.....\")\n",
        "    except ValueError:\n",
        "        print(\"Invalid input 😬 — please enter a number.\")\n",
        "\n",
        "    # Ask if the user wants to play again\n",
        "    play_again = input(\"Do you want to play again? (yes/no): \").strip().lower()\n",
        "    if play_again != \"yes\":\n",
        "        print(\"Thanks for playing! Goodbye 👋😊\")\n",
        "        break\n"
      ]
    }
  ]
}